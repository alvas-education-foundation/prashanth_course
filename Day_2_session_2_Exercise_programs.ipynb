{
  "nbformat": 4,
  "nbformat_minor": 0,
  "metadata": {
    "colab": {
      "name": "Day 2 session 2 Exercise programs.ipynb",
      "provenance": [],
      "authorship_tag": "ABX9TyNvQ69ax0yZbYywEG6VmwCx",
      "include_colab_link": true
    },
    "kernelspec": {
      "name": "python3",
      "display_name": "Python 3"
    }
  },
  "cells": [
    {
      "cell_type": "markdown",
      "metadata": {
        "id": "view-in-github",
        "colab_type": "text"
      },
      "source": [
        "<a href=\"https://colab.research.google.com/github/alvas-education-foundation/prashanth_course/blob/master/Day_2_session_2_Exercise_programs.ipynb\" target=\"_parent\"><img src=\"https://colab.research.google.com/assets/colab-badge.svg\" alt=\"Open In Colab\"/></a>"
      ]
    },
    {
      "cell_type": "code",
      "metadata": {
        "id": "TXDF-HHYf0Ib",
        "colab_type": "code",
        "colab": {
          "base_uri": "https://localhost:8080/",
          "height": 151
        },
        "outputId": "885e13a8-e39a-4d2e-ea64-1f0ed7f98569"
      },
      "source": [
        "#1.\tAdd rollno and marks {name:mark} for n number of students through keyboard in a dictionary and print the marks in descending order with respective name.\n",
        "import operator\n",
        "a=int(input('Enter the no of student '))\n",
        "b={}\n",
        "for i in range (1,a+1):\n",
        "\tname=input('Enter the name %d '%(i))\n",
        "\tmarks=int(input('Enter the marks %d '%(i)))\n",
        "\tb[name]=marks\n",
        "\tsorted_b=sorted(b.items(),key=operator.itemgetter(1))\n",
        "\tsorted_b.reverse()\n",
        "print(sorted_b)\n",
        "\n"
      ],
      "execution_count": null,
      "outputs": [
        {
          "output_type": "stream",
          "text": [
            "Enter the no of student 3\n",
            "Enter the name 1 kd\n",
            "Enter the marks 1 56\n",
            "Enter the name 2 er\n",
            "Enter the marks 2 98\n",
            "Enter the name 3 dg\n",
            "Enter the marks 3 89\n",
            "[('er', 98), ('dg', 89), ('kd', 56)]\n"
          ],
          "name": "stdout"
        }
      ]
    },
    {
      "cell_type": "code",
      "metadata": {
        "id": "RLkvwjpthESP",
        "colab_type": "code",
        "colab": {
          "base_uri": "https://localhost:8080/",
          "height": 151
        },
        "outputId": "1ea35481-e92d-4284-ff2c-69aad4f542fb"
      },
      "source": [
        "#2.\tAdd  name and salary {name:salary} for n number of employees through keyboard in a dictionary and print them in name alphabetical order with salary\n",
        "import operator\n",
        "a=int(input('Enter the no of employe '))\n",
        "b={}\n",
        "for i in range (1,a+1):\n",
        "\tname=input('Enter the name %d '%(i))\n",
        "\tsalary=int(input('Enter the salary %d '%(i)))\n",
        "\tb[name]=salary\n",
        "\tsorted_b=sorted(b.items(),key=operator.itemgetter(0))\n",
        "\t#sorted_b.reverse()\n",
        "print(sorted_b)\n",
        "\n",
        "\n"
      ],
      "execution_count": null,
      "outputs": [
        {
          "output_type": "stream",
          "text": [
            "Enter the no of employe 3\n",
            "Enter the name 1 kp\n",
            "Enter the salary 1 90\n",
            "Enter the name 2 gh\n",
            "Enter the salary 2 66\n",
            "Enter the name 3 gl\n",
            "Enter the salary 3 908\n",
            "[('gh', 66), ('gl', 908), ('kp', 90)]\n"
          ],
          "name": "stdout"
        }
      ]
    },
    {
      "cell_type": "code",
      "metadata": {
        "id": "FCJIehuthd7Q",
        "colab_type": "code",
        "colab": {
          "base_uri": "https://localhost:8080/",
          "height": 235
        },
        "outputId": "d75f5a5d-553d-45ac-8ba5-2c7f31937644"
      },
      "source": [
        "#3.\tAdd  name and salary {name:salary} for n number of employees through keyboard in a dictionary and print them in salary  ascending order andsum, max, min and average of the salaries\n",
        "import operator\n",
        "n=int(input(\"enter the no of employee : \"))\n",
        "d={}\n",
        "for i in range(n):\n",
        "\tname=input(\"enter the name of the employee : \")\n",
        "\tsalary=int(input(\"enter the salary of the employee : \"))\n",
        "\td[name]=salary\n",
        "print(d)\n",
        "a=sorted(d.items(),key=operator.itemgetter(0))\n",
        "print(a)\n",
        "print(\"sum of salary : \",sum(d.values()))\n",
        "print (\"max salary is : \",max(d.values()))\n",
        "print (\"min salary is : \",min(d.values()))\n",
        "print (\"avg of salary is : \",(sum(d.values()))//n)\n"
      ],
      "execution_count": null,
      "outputs": [
        {
          "output_type": "stream",
          "text": [
            "enter the no of employee : 3\n",
            "enter the name of the employee : tdf\n",
            "enter the salary of the employee : 25000\n",
            "enter the name of the employee : kl\n",
            "enter the salary of the employee : 20000\n",
            "enter the name of the employee : vk\n",
            "enter the salary of the employee : 30000\n",
            "{'tdf': 25000, 'kl': 20000, 'vk': 30000}\n",
            "[('kl', 20000), ('tdf', 25000), ('vk', 30000)]\n",
            "sum of salary :  75000\n",
            "max salary is :  30000\n",
            "min salary is :  20000\n",
            "avg of salary is :  25000\n"
          ],
          "name": "stdout"
        }
      ]
    },
    {
      "cell_type": "code",
      "metadata": {
        "id": "xD0_pANRihhv",
        "colab_type": "code",
        "colab": {
          "base_uri": "https://localhost:8080/",
          "height": 168
        },
        "outputId": "6e250a59-af38-4ea3-9659-10cbcff14651"
      },
      "source": [
        "#4.\tAdd name and salary {name:salary} for n number of employees through keyboard in a dictionary and print only the employees whose salary is greater than 2000 but less than 4000\n",
        "a=int(input('Enter the no of employe '))\n",
        "b={}\n",
        "for i in range (1,a+1):\n",
        "\tname=input('Enter the name %d '%(i))\n",
        "\tsalary=int(input('Enter the salary %d '%(i)))\n",
        "\tb[name]=salary\n",
        "print(b)\n",
        "\t#sorted_b=sorted(b.items(),key=operator.itemgetter(0))\n",
        "d={x:y for (x,y)in b.items()if ((y>=2000) & (y<=4000))}\n",
        "print(d)\n",
        "\n",
        "\n"
      ],
      "execution_count": null,
      "outputs": [
        {
          "output_type": "stream",
          "text": [
            "Enter the no of employe 3\n",
            "Enter the name 1 fs\n",
            "Enter the salary 1 1000\n",
            "Enter the name 2 ssf\n",
            "Enter the salary 2 2500\n",
            "Enter the name 3 ssss\n",
            "Enter the salary 3 3999\n",
            "{'fs': 1000, 'ssf': 2500, 'ssss': 3999}\n",
            "{'ssf': 2500, 'ssss': 3999}\n"
          ],
          "name": "stdout"
        }
      ]
    },
    {
      "cell_type": "code",
      "metadata": {
        "id": "IbKS5u5Yi_Vd",
        "colab_type": "code",
        "colab": {
          "base_uri": "https://localhost:8080/",
          "height": 50
        },
        "outputId": "97f62b13-1bc3-4d6c-cb0f-a6e305dd6744"
      },
      "source": [
        "#5.\tPython program to convert a 3 digit number  into words\n",
        "\n",
        "d={0:'',1:'one',2:'two',3:'three',4:'four',5:'five',6:'six',7:'seven',8:'eight',9:'nine',\\\n",
        "   10:'ten',11:'eleven',12:'twelve',13:'thirteen',14:'fourteen',15:'fifteen',16:'sixteen',\\\n",
        "   17:'seventeen',18:'eightteen',19:'nineteen',20:'twenty',30:'thirty',40:'fourty',50:'fifty',\\\n",
        "   60:'sixty',70:'seventy',80:'eighty',90:'ninty',\\\n",
        "  100:'hundred',200:'two hundred',300:'three hundred',400:'four hundred',\\\n",
        "  500:'five hundred',600:'sic hundred',700:'seven hundred',\\\n",
        "  800:'eight hundred',900:'nine hundred'}\n",
        "\n",
        "num=int(input(\"Enter the integer between 1 to 999:\"))\n",
        "if (num<=20):\n",
        "  \tprint(d[num])\n",
        "if(num>20 and num<100):\n",
        "    \tif num%10==0:  \t \n",
        "        \tprint(d[num])\n",
        "    \telse:\n",
        "        \tprint(d[num//10*10]+\" \"+d[num%10])\n",
        "if(num>99 and num<1000):\n",
        "    \tif num%100==0:  \t \n",
        "        \tprint(d[num])\n",
        "    \telse:\n",
        "        \tprint(d[num//100*100]+\" \"+\"and\"+\" \"+d[num%100//10*10]+\" \"+d[num%10])\n",
        "\n"
      ],
      "execution_count": null,
      "outputs": [
        {
          "output_type": "stream",
          "text": [
            "Enter the integer between 1 to 999:560\n",
            "five hundred and sixty \n"
          ],
          "name": "stdout"
        }
      ]
    },
    {
      "cell_type": "code",
      "metadata": {
        "id": "s8cod5rzjpPr",
        "colab_type": "code",
        "colab": {}
      },
      "source": [
        ""
      ],
      "execution_count": null,
      "outputs": []
    },
    {
      "cell_type": "markdown",
      "metadata": {
        "id": "FF-VtRN4jzXq",
        "colab_type": "text"
      },
      "source": [
        "Files Exercises"
      ]
    },
    {
      "cell_type": "code",
      "metadata": {
        "id": "s923CF9nj14b",
        "colab_type": "code",
        "colab": {
          "base_uri": "https://localhost:8080/",
          "height": 154
        },
        "outputId": "796be99e-8362-4e83-9b41-2aed6f1c31d5"
      },
      "source": [
        "#1.Python Program to count the total number of charaters (except blank space) in a text file\n",
        "from google.colab import drive\n",
        "drive.mount('/content/drive')\n",
        "input_file = input(\"Enter File name : \")\n",
        "file_txt = open(input_file)\t\t\n",
        "text = file_txt.read()\t\t\t\n",
        "charc = 0\t\n",
        "for i in text:\t\t\t\t\n",
        "\tif(i != \" \" and i != \"\\n\" ):\n",
        "\t\t charc += 1\n",
        " \n",
        "print (\"total num of characters: \",charc);\n"
      ],
      "execution_count": null,
      "outputs": [
        {
          "output_type": "stream",
          "text": [
            "Go to this URL in a browser: https://accounts.google.com/o/oauth2/auth?client_id=947318989803-6bn6qk8qdgf4n4g3pfee6491hc0brc4i.apps.googleusercontent.com&redirect_uri=urn%3aietf%3awg%3aoauth%3a2.0%3aoob&response_type=code&scope=email%20https%3a%2f%2fwww.googleapis.com%2fauth%2fdocs.test%20https%3a%2f%2fwww.googleapis.com%2fauth%2fdrive%20https%3a%2f%2fwww.googleapis.com%2fauth%2fdrive.photos.readonly%20https%3a%2f%2fwww.googleapis.com%2fauth%2fpeopleapi.readonly\n",
            "\n",
            "Enter your authorization code:\n",
            "··········\n",
            "Mounted at /content/drive\n",
            "Enter File name : /content/drive/My Drive/doc.txt\n",
            "total num of characters:  161\n"
          ],
          "name": "stdout"
        }
      ]
    },
    {
      "cell_type": "code",
      "metadata": {
        "id": "XO25bPSclGVr",
        "colab_type": "code",
        "colab": {
          "base_uri": "https://localhost:8080/",
          "height": 34
        },
        "outputId": "e55346b5-cbe9-4b09-d190-63041df31d36"
      },
      "source": [
        "#2.Python Program to print all the numbers present in a text file with its total number of occurrence.\n",
        "file = '/content/drive/My Drive/one.txt'\n",
        "d = {}\n",
        "with open(file,'r') as f:\n",
        "  for line in f:\n",
        "    for word in line:\n",
        "      if word.isdigit():\n",
        "        if word in d.keys():\n",
        "          d[word] += 1\n",
        "        else:\n",
        "          d[word] = 1\n",
        "print(\"No's with total no of occurances: \",d)"
      ],
      "execution_count": 17,
      "outputs": [
        {
          "output_type": "stream",
          "text": [
            "No's with total no of occurances:  {'3': 4, '1': 4, '0': 1, '6': 1}\n"
          ],
          "name": "stdout"
        }
      ]
    },
    {
      "cell_type": "code",
      "metadata": {
        "id": "ngKCLOgSma_O",
        "colab_type": "code",
        "colab": {}
      },
      "source": [
        "#3.Python Program to append the contents of one file to another file \n",
        "file1 = '/content/drive/My Drive/sample1.txt'\n",
        "file2 = '/content/drive/My Drive/one.txt'\n",
        "d = {}\n",
        "with open(file1,'r') as f1:\n",
        "  with open(file2,'a') as f2:\n",
        "    for line in f1:\n",
        "      f2.write(line)"
      ],
      "execution_count": 18,
      "outputs": []
    },
    {
      "cell_type": "code",
      "metadata": {
        "id": "mMjORo-ZpliJ",
        "colab_type": "code",
        "colab": {
          "base_uri": "https://localhost:8080/",
          "height": 34
        },
        "outputId": "290a4a89-b01e-43e5-da44-9b91c53ea39c"
      },
      "source": [
        "#4.Python Program to count the number of blank spaces in a text file.\n",
        "file = '/content/drive/My Drive/one.txt'\n",
        "count = 0\n",
        "with open(file,'r') as f:\n",
        "  for line in f:\n",
        "    count += len(line.split())-1\n",
        "print(count) \n"
      ],
      "execution_count": 19,
      "outputs": [
        {
          "output_type": "stream",
          "text": [
            "55\n"
          ],
          "name": "stdout"
        }
      ]
    },
    {
      "cell_type": "code",
      "metadata": {
        "id": "Ref5XZvZp9uc",
        "colab_type": "code",
        "colab": {
          "base_uri": "https://localhost:8080/",
          "height": 54
        },
        "outputId": "b2e8534a-7147-4cac-b706-ecc173d8de47"
      },
      "source": [
        "#5.Python Program to read a file and capitalize the first letter of every word in the file and copy the every word capitalized content  into another file and read it .\n",
        "file1 = '/content/drive/My Drive/doc.txt'\n",
        "file2 = '/content/drive/My Drive/capital_1.txt'\n",
        "count = 0\n",
        "with open(file1,'r') as f1:\n",
        "  with open(file2,'w') as f2:\n",
        "    for line in f1:\n",
        "      f2.write(line.title())\n",
        "\n",
        "with open(file2,'r') as f:\n",
        "  for line in f:\n",
        "    print(line)"
      ],
      "execution_count": 20,
      "outputs": [
        {
          "output_type": "stream",
          "text": [
            "India, Officially The Republic Of India, Is A Country In South Asia. It Is The Second-Most Populous Country, The Seventh-Largest Country By Area, And The Most Populous Democracy In The World.\n"
          ],
          "name": "stdout"
        }
      ]
    },
    {
      "cell_type": "code",
      "metadata": {
        "id": "BvaE_QN1qh4-",
        "colab_type": "code",
        "colab": {}
      },
      "source": [
        ""
      ],
      "execution_count": null,
      "outputs": []
    }
  ]
}