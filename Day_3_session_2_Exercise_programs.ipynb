{
  "nbformat": 4,
  "nbformat_minor": 0,
  "metadata": {
    "colab": {
      "name": "Day 3 session 2 Exercise programs.ipynb",
      "provenance": [],
      "collapsed_sections": [],
      "authorship_tag": "ABX9TyPuVWOu3gRYboLmazYPa0dr",
      "include_colab_link": true
    },
    "kernelspec": {
      "name": "python3",
      "display_name": "Python 3"
    }
  },
  "cells": [
    {
      "cell_type": "markdown",
      "metadata": {
        "id": "view-in-github",
        "colab_type": "text"
      },
      "source": [
        "<a href=\"https://colab.research.google.com/github/alvas-education-foundation/prashanth_course/blob/master/Day_3_session_2_Exercise_programs.ipynb\" target=\"_parent\"><img src=\"https://colab.research.google.com/assets/colab-badge.svg\" alt=\"Open In Colab\"/></a>"
      ]
    },
    {
      "cell_type": "code",
      "metadata": {
        "id": "pLnO5dVBUbda",
        "colab_type": "code",
        "colab": {
          "base_uri": "https://localhost:8080/",
          "height": 202
        },
        "outputId": "3bc9080d-f97a-437b-867b-7e7a9a22098a"
      },
      "source": [
        "#Write a Python Program to Print Multiplication Table of a  number which got through keyboard.\n",
        "a= [print(n,'x',x,'=',n*x) for x in range(1,11)]"
      ],
      "execution_count": null,
      "outputs": [
        {
          "output_type": "stream",
          "text": [
            "Enter a no: 7\n",
            "7 x 1 = 7\n",
            "7 x 2 = 14\n",
            "7 x 3 = 21\n",
            "7 x 4 = 28\n",
            "7 x 5 = 35\n",
            "7 x 6 = 42\n",
            "7 x 7 = 49\n",
            "7 x 8 = 56\n",
            "7 x 9 = 63\n",
            "7 x 10 = 70\n"
          ],
          "name": "stdout"
        }
      ]
    },
    {
      "cell_type": "code",
      "metadata": {
        "id": "pQ8JJ8kmVsoi",
        "colab_type": "code",
        "colab": {
          "base_uri": "https://localhost:8080/",
          "height": 34
        },
        "outputId": "76fdfab2-2354-466f-ef7d-4ef440e1b214"
      },
      "source": [
        "## Write a  Python Program to find the Armstrong Numbers between 1 and 2000 \n",
        "# ( i.e 153 is amtrong numbers as 1**3+5**3+3**3=153 )\n",
        "for x in range(1,2000):\n",
        "  i = str(x)\n",
        "  l = len(i)\n",
        "  ex = []\n",
        "  for y in range(l):\n",
        "    ex.append(i[y]+'**'+str(l))\n",
        "  if eval('+'.join(ex)) == x:\n",
        "    print(x,end = ' ')"
      ],
      "execution_count": null,
      "outputs": [
        {
          "output_type": "stream",
          "text": [
            "1 2 3 4 5 6 7 8 9 153 370 371 407 1634 "
          ],
          "name": "stdout"
        }
      ]
    },
    {
      "cell_type": "code",
      "metadata": {
        "id": "C7GFt0BjWIE3",
        "colab_type": "code",
        "colab": {
          "base_uri": "https://localhost:8080/",
          "height": 202
        },
        "outputId": "9d5dfbcb-7d39-4bd1-8886-fdb0701c8744"
      },
      "source": [
        "## Write a python program to get the list of tuples (rollno, name) for n students by getting rollno and name through keyboard. \n",
        "# Sort and print  them as rollno wise and name wise both ascending and descending as well as alphabetical and dealphabetical orders\n",
        "\n",
        "import operator\n",
        "arr = [(int(input('Enter rollno %d: '%(x))),input('Enter name %d: '%(x))) for x in range(1,int(input('Enter no of students: '))+1)]\n",
        "print('Student details based on rollno in ascending order',sorted(arr))\n",
        "print('Student details based on rollno in descending order',sorted(arr,reverse = True))\n",
        "print('Student details based on name in ascending order',sorted(arr,key = operator.itemgetter(1)))\n",
        "print('Student details based on name in descending order',sorted(arr,key = operator.itemgetter(1),reverse = True))"
      ],
      "execution_count": null,
      "outputs": [
        {
          "output_type": "stream",
          "text": [
            "Enter no of students: 3\n",
            "Enter rollno 1: 45\n",
            "Enter name 1: fg\n",
            "Enter rollno 2: 65\n",
            "Enter name 2: ert\n",
            "Enter rollno 3: 69\n",
            "Enter name 3: ds\n",
            "Student details based on rollno in ascending order [(45, 'fg'), (65, 'ert'), (69, 'ds')]\n",
            "Student details based on rollno in descending order [(69, 'ds'), (65, 'ert'), (45, 'fg')]\n",
            "Student details based on name in ascending order [(69, 'ds'), (65, 'ert'), (45, 'fg')]\n",
            "Student details based on name in descending order [(45, 'fg'), (65, 'ert'), (69, 'ds')]\n"
          ],
          "name": "stdout"
        }
      ]
    },
    {
      "cell_type": "code",
      "metadata": {
        "id": "UK1F592nWOmP",
        "colab_type": "code",
        "colab": {
          "base_uri": "https://localhost:8080/",
          "height": 67
        },
        "outputId": "cdb34ab8-dcb6-461d-abc2-774c0619a15a"
      },
      "source": [
        "# Python Program to Detect if Two Strings are Anagrams \n",
        "# ( They are  the two strings which have same length and same words which may be different in their order)\n",
        "\n",
        "s1 = input('Enter the 1st string: ')\n",
        "s2 = input('Enter the 2nd string: ')\n",
        "if len(s1) == len(s2) and sorted(set(s1)) == sorted(set(s2)):\n",
        "  print('Strings are Anagrams')\n",
        "else:\n",
        "  print('Strings are not Anagrams')"
      ],
      "execution_count": null,
      "outputs": [
        {
          "output_type": "stream",
          "text": [
            "Enter the 1st string: dog\n",
            "Enter the 2nd string: tree\n",
            "Strings are not Anagrams\n"
          ],
          "name": "stdout"
        }
      ]
    },
    {
      "cell_type": "code",
      "metadata": {
        "id": "y55uAkm5WaS7",
        "colab_type": "code",
        "colab": {}
      },
      "source": [
        ""
      ],
      "execution_count": null,
      "outputs": []
    }
  ]
}