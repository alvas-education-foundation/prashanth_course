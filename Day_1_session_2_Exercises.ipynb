{
  "nbformat": 4,
  "nbformat_minor": 0,
  "metadata": {
    "colab": {
      "name": "Day 1 session 2 Exercises.ipynb",
      "provenance": [],
      "authorship_tag": "ABX9TyNoyBPH0P/OqO7ZK+do0uR1",
      "include_colab_link": true
    },
    "kernelspec": {
      "name": "python3",
      "display_name": "Python 3"
    }
  },
  "cells": [
    {
      "cell_type": "markdown",
      "metadata": {
        "id": "view-in-github",
        "colab_type": "text"
      },
      "source": [
        "<a href=\"https://colab.research.google.com/github/alvas-education-foundation/prashanth_course/blob/master/Day_1_session_2_Exercises.ipynb\" target=\"_parent\"><img src=\"https://colab.research.google.com/assets/colab-badge.svg\" alt=\"Open In Colab\"/></a>"
      ]
    },
    {
      "cell_type": "code",
      "metadata": {
        "id": "W4xplPaSXIAc",
        "colab_type": "code",
        "colab": {}
      },
      "source": [
        ""
      ],
      "execution_count": null,
      "outputs": []
    },
    {
      "cell_type": "markdown",
      "metadata": {
        "id": "lduaDBEWYEjr",
        "colab_type": "text"
      },
      "source": [
        "1. Program to print the triangle :\n",
        "i/p 4\n",
        "\n",
        "1\n",
        "\n",
        "2 3\n",
        "\n",
        "3 4 5\n",
        "\n",
        "4 5 6 7"
      ]
    },
    {
      "cell_type": "code",
      "metadata": {
        "id": "Oicb7J4PYG5b",
        "colab_type": "code",
        "colab": {
          "base_uri": "https://localhost:8080/",
          "height": 101
        },
        "outputId": "f9b3f022-29f6-44fe-ac79-94c016cfca7c"
      },
      "source": [
        "n=4\n",
        "for i in range(n+1):\n",
        "    for j in range(i):\n",
        "        print (j+i ,end=\" \")\n",
        "    print('')"
      ],
      "execution_count": 1,
      "outputs": [
        {
          "output_type": "stream",
          "text": [
            "\n",
            "1 \n",
            "2 3 \n",
            "3 4 5 \n",
            "4 5 6 7 \n"
          ],
          "name": "stdout"
        }
      ]
    },
    {
      "cell_type": "markdown",
      "metadata": {
        "id": "MZJb5-1dY4ML",
        "colab_type": "text"
      },
      "source": [
        "2.TO print the Star Pattern for n=4"
      ]
    },
    {
      "cell_type": "code",
      "metadata": {
        "id": "JGBmn4qkY9q6",
        "colab_type": "code",
        "colab": {
          "base_uri": "https://localhost:8080/",
          "height": 84
        },
        "outputId": "e93a4146-8056-4765-a2bb-96525b3b2fdd"
      },
      "source": [
        "n=4;\n",
        "for i in range(n):\n",
        "    for j in range(i+1):\n",
        "        print ('* ', end=\"\")\n",
        "    print('')"
      ],
      "execution_count": 2,
      "outputs": [
        {
          "output_type": "stream",
          "text": [
            "* \n",
            "* * \n",
            "* * * \n",
            "* * * * \n"
          ],
          "name": "stdout"
        }
      ]
    },
    {
      "cell_type": "code",
      "metadata": {
        "id": "VRw5SLhBYmqW",
        "colab_type": "code",
        "colab": {}
      },
      "source": [
        ""
      ],
      "execution_count": null,
      "outputs": []
    },
    {
      "cell_type": "markdown",
      "metadata": {
        "id": "_E9Xo5RyZTQ1",
        "colab_type": "text"
      },
      "source": [
        "3. Backward Numbers n = 5\n",
        "\n",
        "5\n",
        "\n",
        "4 5\n",
        "\n",
        "3 4 5\n",
        "\n",
        "2 3 4 5\n",
        "\n",
        "1 2 3 4 5"
      ]
    },
    {
      "cell_type": "code",
      "metadata": {
        "id": "YeJllEV9ZXpR",
        "colab_type": "code",
        "colab": {
          "base_uri": "https://localhost:8080/",
          "height": 118
        },
        "outputId": "601d1833-d5e6-4ab3-ef9c-7644adc920b2"
      },
      "source": [
        "n=5\n",
        "for i in range(n+1):\n",
        "    for j in range(i,0,-1 ):\n",
        "        print (n-j+1 ,end=\" \")\n",
        "    print('')"
      ],
      "execution_count": 6,
      "outputs": [
        {
          "output_type": "stream",
          "text": [
            "\n",
            "5 \n",
            "4 5 \n",
            "3 4 5 \n",
            "2 3 4 5 \n",
            "1 2 3 4 5 \n"
          ],
          "name": "stdout"
        }
      ]
    },
    {
      "cell_type": "code",
      "metadata": {
        "id": "KPQvJE9AZU_2",
        "colab_type": "code",
        "colab": {}
      },
      "source": [
        ""
      ],
      "execution_count": null,
      "outputs": []
    },
    {
      "cell_type": "markdown",
      "metadata": {
        "id": "BiNtVghcaQUf",
        "colab_type": "text"
      },
      "source": [
        "\n",
        "4. Enter number 5\n",
        "\n"
      ]
    },
    {
      "cell_type": "code",
      "metadata": {
        "id": "20fZg46OayXb",
        "colab_type": "code",
        "colab": {
          "base_uri": "https://localhost:8080/",
          "height": 101
        },
        "outputId": "c1b9beed-606a-4da6-8c91-7a1f0543be07"
      },
      "source": [
        "n=5;\n",
        "for i in range(n,0,-1):\n",
        "    for j in range(i):\n",
        "        print('{0} '.format(i-j), end=\"\")\n",
        "    print('')"
      ],
      "execution_count": 7,
      "outputs": [
        {
          "output_type": "stream",
          "text": [
            "5 4 3 2 1 \n",
            "4 3 2 1 \n",
            "3 2 1 \n",
            "2 1 \n",
            "1 \n"
          ],
          "name": "stdout"
        }
      ]
    },
    {
      "cell_type": "code",
      "metadata": {
        "id": "EVGmKxYMaczi",
        "colab_type": "code",
        "colab": {}
      },
      "source": [
        ""
      ],
      "execution_count": null,
      "outputs": []
    },
    {
      "cell_type": "code",
      "metadata": {
        "id": "xfrzV-K_bL57",
        "colab_type": "code",
        "colab": {}
      },
      "source": [
        "5.Enter number 4\n",
        "\n",
        "1 2 3 4\n",
        "2 3 4\n",
        "3 4\n",
        "4\n",
        "3 4\n",
        "2 3 4\n",
        "1 2 3 4\n"
      ],
      "execution_count": null,
      "outputs": []
    },
    {
      "cell_type": "code",
      "metadata": {
        "id": "auY1jBZObNpc",
        "colab_type": "code",
        "colab": {
          "base_uri": "https://localhost:8080/",
          "height": 168
        },
        "outputId": "dfcb447b-4823-4bf1-f8ac-5965044a7539"
      },
      "source": [
        "n=int(input(\"Enter the Number:\"));\n",
        "for i in range(0,n+1,1):\n",
        "    print(\"\")\n",
        "    for j in range(i+1,n+1,1):\n",
        "        print(j,end=\" \")\n",
        "    \n",
        "for i in range(1,n):\n",
        "    for j in range(i+1,0,-1):\n",
        "        print(n-j+1,end=\" \")\n",
        "    print('')"
      ],
      "execution_count": 8,
      "outputs": [
        {
          "output_type": "stream",
          "text": [
            "Enter the Number:4\n",
            "\n",
            "1 2 3 4 \n",
            "2 3 4 \n",
            "3 4 \n",
            "4 \n",
            "3 4 \n",
            "2 3 4 \n",
            "1 2 3 4 \n"
          ],
          "name": "stdout"
        }
      ]
    },
    {
      "cell_type": "code",
      "metadata": {
        "id": "1HDT6KwRbbdE",
        "colab_type": "code",
        "colab": {}
      },
      "source": [
        "6.Find the length of a string without using len functions"
      ],
      "execution_count": null,
      "outputs": []
    },
    {
      "cell_type": "code",
      "metadata": {
        "id": "OQ8pSAeobc-f",
        "colab_type": "code",
        "colab": {
          "base_uri": "https://localhost:8080/",
          "height": 50
        },
        "outputId": "3752b14c-2f2e-4957-cdec-ee7601708fcb"
      },
      "source": [
        "str = input(\"Enter a string: \")\n",
        "\n",
        "# counter variable to count the character in a string\n",
        "counter = 0\n",
        "for s in str:\n",
        "      counter = counter+1\n",
        "print(\"Length of the input string is:\", counter)"
      ],
      "execution_count": 9,
      "outputs": [
        {
          "output_type": "stream",
          "text": [
            "Enter a string: Python program\n",
            "Length of the input string is: 14\n"
          ],
          "name": "stdout"
        }
      ]
    },
    {
      "cell_type": "code",
      "metadata": {
        "id": "QGeajDZhbUIE",
        "colab_type": "code",
        "colab": {}
      },
      "source": [
        ""
      ],
      "execution_count": null,
      "outputs": []
    },
    {
      "cell_type": "markdown",
      "metadata": {
        "id": "t7Ud5NSNcRlj",
        "colab_type": "text"
      },
      "source": [
        "7.Find the no of words and characters in a string"
      ]
    },
    {
      "cell_type": "code",
      "metadata": {
        "id": "mGyflsVycWnf",
        "colab_type": "code",
        "colab": {
          "base_uri": "https://localhost:8080/",
          "height": 101
        },
        "outputId": "aa85dd8c-4441-4b69-dc19-e9dab9e6dcaa"
      },
      "source": [
        "string=input('Enter the string')\n",
        "char=0\n",
        "word=1\n",
        "for i in string:\n",
        "    char=char+1\n",
        "    if(i==' '):\n",
        "        word=word+1\n",
        "print('Number of word in the string')\n",
        "print(word)\n",
        "print('Number of character in the string')\n",
        "print(char)"
      ],
      "execution_count": 10,
      "outputs": [
        {
          "output_type": "stream",
          "text": [
            "Enter the stringwords and characters\n",
            "Number of word in the string\n",
            "3\n",
            "Number of character in the string\n",
            "20\n"
          ],
          "name": "stdout"
        }
      ]
    },
    {
      "cell_type": "markdown",
      "metadata": {
        "id": "sDrFw2hLc63r",
        "colab_type": "text"
      },
      "source": [
        ""
      ]
    },
    {
      "cell_type": "code",
      "metadata": {
        "id": "1KfGRJcAczo-",
        "colab_type": "code",
        "colab": {}
      },
      "source": [
        ""
      ],
      "execution_count": null,
      "outputs": []
    },
    {
      "cell_type": "markdown",
      "metadata": {
        "id": "ceQieH8dc9DF",
        "colab_type": "text"
      },
      "source": [
        "8 .Find the no of occurrences of a word in a string"
      ]
    },
    {
      "cell_type": "code",
      "metadata": {
        "id": "RF4T_6QWdAN7",
        "colab_type": "code",
        "colab": {
          "base_uri": "https://localhost:8080/",
          "height": 34
        },
        "outputId": "2a53c691-4bce-4de3-9f5d-a2851af0b828"
      },
      "source": [
        "string = \"I am from india . I am student.\"\n",
        "word = \"am\"\n",
        "## splitting the string at space\n",
        "words = string.split()\n",
        "## initializing count variable to 0\n",
        "count = 0\n",
        "## iterating over the list\n",
        "for w in words:\n",
        "   ## checking the match of the words\n",
        "   if w == word:\n",
        "      ## incrementint count on match\n",
        "      count += 1\n",
        "## printing the count\n",
        "print(\"The count is:\", count)"
      ],
      "execution_count": 14,
      "outputs": [
        {
          "output_type": "stream",
          "text": [
            "The count is: 2\n"
          ],
          "name": "stdout"
        }
      ]
    },
    {
      "cell_type": "code",
      "metadata": {
        "id": "Dq50xxcxdqL4",
        "colab_type": "code",
        "colab": {}
      },
      "source": [
        ""
      ],
      "execution_count": null,
      "outputs": []
    }
  ]
}