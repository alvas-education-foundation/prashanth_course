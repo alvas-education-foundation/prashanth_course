{
  "nbformat": 4,
  "nbformat_minor": 0,
  "metadata": {
    "colab": {
      "name": "Day_3_Session_1_Example_Programs.ipynb",
      "provenance": [],
      "authorship_tag": "ABX9TyMbJjUznrKGL4Qi/YMexheH",
      "include_colab_link": true
    },
    "kernelspec": {
      "name": "python3",
      "display_name": "Python 3"
    }
  },
  "cells": [
    {
      "cell_type": "markdown",
      "metadata": {
        "id": "view-in-github",
        "colab_type": "text"
      },
      "source": [
        "<a href=\"https://colab.research.google.com/github/alvas-education-foundation/prashanth_course/blob/master/Day_3_Session_1_Example_Programs.ipynb\" target=\"_parent\"><img src=\"https://colab.research.google.com/assets/colab-badge.svg\" alt=\"Open In Colab\"/></a>"
      ]
    },
    {
      "cell_type": "code",
      "metadata": {
        "id": "sdaA9qSmJVr-",
        "colab_type": "code",
        "colab": {
          "base_uri": "https://localhost:8080/",
          "height": 34
        },
        "outputId": "e9271961-94eb-408f-b342-570428860352"
      },
      "source": [
        "#Program for prime number -bad code\n",
        "i=25\n",
        "for x in range(2, i//2+1):\n",
        "      if i%x==0:\n",
        "         print(\"The number {} is not prime\".format(i))\n",
        "         break\n",
        "if x ==i//2:\n",
        "   print (\"{} is a prime number\".format(i))"
      ],
      "execution_count": 1,
      "outputs": [
        {
          "output_type": "stream",
          "text": [
            "The number 25 is not prime\n"
          ],
          "name": "stdout"
        }
      ]
    },
    {
      "cell_type": "code",
      "metadata": {
        "id": "A-k_mKFwJjjP",
        "colab_type": "code",
        "colab": {
          "base_uri": "https://localhost:8080/",
          "height": 34
        },
        "outputId": "d41f3a8b-43bd-473f-f75d-2141d68f59ed"
      },
      "source": [
        "#Good code using for... else\n",
        "i=25\n",
        "for x in range(2, i//2+1):\n",
        "      if i%x==0:\n",
        "         print(\"The number {} is not prime\".format(i))\n",
        "         break\n",
        "else:\n",
        "    print (\"{} is a prime number\".format(i))"
      ],
      "execution_count": 2,
      "outputs": [
        {
          "output_type": "stream",
          "text": [
            "The number 25 is not prime\n"
          ],
          "name": "stdout"
        }
      ]
    },
    {
      "cell_type": "code",
      "metadata": {
        "id": "P4pNG9iyJsKk",
        "colab_type": "code",
        "colab": {
          "base_uri": "https://localhost:8080/",
          "height": 50
        },
        "outputId": "68fa5832-07b3-4538-94a0-1eac5580a413"
      },
      "source": [
        "#Using Unpacking to Write Concise Code\n",
        "a, b = 2, 'my-string'\n",
        "print(a)\n",
        "print(b)"
      ],
      "execution_count": 3,
      "outputs": [
        {
          "output_type": "stream",
          "text": [
            "2\n",
            "my-string\n"
          ],
          "name": "stdout"
        }
      ]
    },
    {
      "cell_type": "code",
      "metadata": {
        "id": "B0twF23oJyeQ",
        "colab_type": "code",
        "colab": {
          "base_uri": "https://localhost:8080/",
          "height": 34
        },
        "outputId": "62b478b0-03b7-4c3a-c5c4-4241ba444006"
      },
      "source": [
        "#Bad unpacking\n",
        "x = (1, 2, 4, 8, 16)\n",
        "a = x[0]\n",
        "b = x[1]\n",
        "c = x[2]\n",
        "d = x[3]\n",
        "e = x[4]\n",
        "print(a, b, c, d, e)"
      ],
      "execution_count": 4,
      "outputs": [
        {
          "output_type": "stream",
          "text": [
            "1 2 4 8 16\n"
          ],
          "name": "stdout"
        }
      ]
    },
    {
      "cell_type": "code",
      "metadata": {
        "id": "De2AI9ztJ4tJ",
        "colab_type": "code",
        "colab": {
          "base_uri": "https://localhost:8080/",
          "height": 34
        },
        "outputId": "58bceef4-e7c3-40f3-f74e-360e3afe088a"
      },
      "source": [
        "#Excellent unpacking\n",
        "a,b,c,d,e=x\n",
        "print(a, b, c, d, e)"
      ],
      "execution_count": 5,
      "outputs": [
        {
          "output_type": "stream",
          "text": [
            "1 2 4 8 16\n"
          ],
          "name": "stdout"
        }
      ]
    },
    {
      "cell_type": "code",
      "metadata": {
        "id": "R_3s2-sFJ_uM",
        "colab_type": "code",
        "colab": {
          "base_uri": "https://localhost:8080/",
          "height": 67
        },
        "outputId": "b017f79f-ff55-436f-8512-ca42f0fddbf2"
      },
      "source": [
        "#unpacking some elements\n",
        "a, *y, e = x\n",
        "print(a)\n",
        "print(y)\n",
        "print(e)"
      ],
      "execution_count": 6,
      "outputs": [
        {
          "output_type": "stream",
          "text": [
            "1\n",
            "[2, 4, 8]\n",
            "16\n"
          ],
          "name": "stdout"
        }
      ]
    },
    {
      "cell_type": "code",
      "metadata": {
        "id": "r-Tl-O5gKGyz",
        "colab_type": "code",
        "colab": {
          "base_uri": "https://localhost:8080/",
          "height": 34
        },
        "outputId": "cda3d8e6-68c7-4bc5-8702-a284c9a93f74"
      },
      "source": [
        "#Using Chaining to Write Concise Code\n",
        "x = 4\n",
        "print(x >= 2 and x <= 8)"
      ],
      "execution_count": 7,
      "outputs": [
        {
          "output_type": "stream",
          "text": [
            "True\n"
          ],
          "name": "stdout"
        }
      ]
    },
    {
      "cell_type": "code",
      "metadata": {
        "id": "JQQHQkojKQi7",
        "colab_type": "code",
        "colab": {
          "base_uri": "https://localhost:8080/",
          "height": 50
        },
        "outputId": "9d50a104-a2e8-4b08-9d04-32eefd1aba66"
      },
      "source": [
        "#Instead, you can write this in a more compact form, like mathematicians do:\n",
        "print(2 <= x <= 8)\n",
        "print(2 <= x <= 3)"
      ],
      "execution_count": 8,
      "outputs": [
        {
          "output_type": "stream",
          "text": [
            "True\n",
            "False\n"
          ],
          "name": "stdout"
        }
      ]
    },
    {
      "cell_type": "code",
      "metadata": {
        "id": "UyomGku7KW_j",
        "colab_type": "code",
        "colab": {
          "base_uri": "https://localhost:8080/",
          "height": 34
        },
        "outputId": "1e3868ac-ae58-41a6-8b06-86273027ab06"
      },
      "source": [
        "#chained assignments\n",
        "x = y = z = 2\n",
        "x, y, z # when we use , it becomes tuple"
      ],
      "execution_count": 9,
      "outputs": [
        {
          "output_type": "execute_result",
          "data": {
            "text/plain": [
              "(2, 2, 2)"
            ]
          },
          "metadata": {
            "tags": []
          },
          "execution_count": 9
        }
      ]
    },
    {
      "cell_type": "code",
      "metadata": {
        "id": "EU1JOBQuKchk",
        "colab_type": "code",
        "colab": {
          "base_uri": "https://localhost:8080/",
          "height": 84
        },
        "outputId": "3c106392-8227-4de9-bc8b-8b03960c3859"
      },
      "source": [
        "#Checking against None\n",
        "# normal way\n",
        "x, y = 2, None\n",
        "print(x == None)\n",
        "print(y == None)\n",
        "print(x != None)\n",
        "print(y != None)"
      ],
      "execution_count": 10,
      "outputs": [
        {
          "output_type": "stream",
          "text": [
            "False\n",
            "True\n",
            "True\n",
            "False\n"
          ],
          "name": "stdout"
        }
      ]
    },
    {
      "cell_type": "code",
      "metadata": {
        "id": "DdHVPFECKit-",
        "colab_type": "code",
        "colab": {
          "base_uri": "https://localhost:8080/",
          "height": 84
        },
        "outputId": "54cf535a-e146-4eef-f883-97a20297b5a1"
      },
      "source": [
        "#In pythonic way\n",
        "x is None\n",
        "print(x is None)\n",
        "print(y is None)\n",
        "print(x is not None)\n",
        "print(y is not None)"
      ],
      "execution_count": 11,
      "outputs": [
        {
          "output_type": "stream",
          "text": [
            "False\n",
            "True\n",
            "True\n",
            "False\n"
          ],
          "name": "stdout"
        }
      ]
    },
    {
      "cell_type": "code",
      "metadata": {
        "id": "SlUgsrffKp_r",
        "colab_type": "code",
        "colab": {
          "base_uri": "https://localhost:8080/",
          "height": 101
        },
        "outputId": "53d95afa-d234-47b0-e27f-00fce3b39301"
      },
      "source": [
        "#Iterating over Sequences\n",
        "x = [1, 2, 4, 8, 16]\n",
        "for i in range(len(x)):\n",
        "  print(x[i])"
      ],
      "execution_count": 12,
      "outputs": [
        {
          "output_type": "stream",
          "text": [
            "1\n",
            "2\n",
            "4\n",
            "8\n",
            "16\n"
          ],
          "name": "stdout"
        }
      ]
    },
    {
      "cell_type": "code",
      "metadata": {
        "id": "SlhQ35sdK2SN",
        "colab_type": "code",
        "colab": {}
      },
      "source": [
        "#But instead we can do like this in elegant way"
      ],
      "execution_count": 13,
      "outputs": []
    },
    {
      "cell_type": "code",
      "metadata": {
        "id": "QA-FKEmkK5qH",
        "colab_type": "code",
        "colab": {
          "base_uri": "https://localhost:8080/",
          "height": 101
        },
        "outputId": "084f80fe-1103-4ea0-d75e-f8fac55ced14"
      },
      "source": [
        "for item in x:\n",
        "  print(item)"
      ],
      "execution_count": 14,
      "outputs": [
        {
          "output_type": "stream",
          "text": [
            "1\n",
            "2\n",
            "4\n",
            "8\n",
            "16\n"
          ],
          "name": "stdout"
        }
      ]
    },
    {
      "cell_type": "code",
      "metadata": {
        "id": "350yChYLK-zH",
        "colab_type": "code",
        "colab": {
          "base_uri": "https://localhost:8080/",
          "height": 101
        },
        "outputId": "b9eb679d-4b94-4e12-e49f-5a3d62b28b04"
      },
      "source": [
        "#to iterate in the reversed order\n",
        "for i in range(len(x)-1, -1, -1):\n",
        "  print(x[i])"
      ],
      "execution_count": 15,
      "outputs": [
        {
          "output_type": "stream",
          "text": [
            "16\n",
            "8\n",
            "4\n",
            "2\n",
            "1\n"
          ],
          "name": "stdout"
        }
      ]
    },
    {
      "cell_type": "code",
      "metadata": {
        "id": "853DYRUNLCYF",
        "colab_type": "code",
        "colab": {
          "base_uri": "https://localhost:8080/",
          "height": 101
        },
        "outputId": "f96dc2ee-9b27-4984-b361-145a00e49216"
      },
      "source": [
        "#But in elegant way!\n",
        "for item in x[::-1]:\n",
        "  print(item)"
      ],
      "execution_count": 16,
      "outputs": [
        {
          "output_type": "stream",
          "text": [
            "16\n",
            "8\n",
            "4\n",
            "2\n",
            "1\n"
          ],
          "name": "stdout"
        }
      ]
    },
    {
      "cell_type": "code",
      "metadata": {
        "id": "rqiT-KQZLJdU",
        "colab_type": "code",
        "colab": {
          "base_uri": "https://localhost:8080/",
          "height": 101
        },
        "outputId": "afa9ca7a-4a7c-4e04-ff35-348cb7d7182b"
      },
      "source": [
        "#The Pythonic way is to use reversed to get an iterator that yields the items of a\n",
        "for item in reversed(x):\n",
        "  print(item)"
      ],
      "execution_count": 17,
      "outputs": [
        {
          "output_type": "stream",
          "text": [
            "16\n",
            "8\n",
            "4\n",
            "2\n",
            "1\n"
          ],
          "name": "stdout"
        }
      ]
    },
    {
      "cell_type": "code",
      "metadata": {
        "id": "twz3oEgyLQkm",
        "colab_type": "code",
        "colab": {
          "base_uri": "https://localhost:8080/",
          "height": 101
        },
        "outputId": "d6a29c25-6f69-4c5e-d30a-84990df26a94"
      },
      "source": [
        "#what if you want to iterate over two or more sequences? Of course, you can use the\n",
        "y = 'abcde'\n",
        "for i in range(len(x)):\n",
        "  print(x[i], y[i])"
      ],
      "execution_count": 18,
      "outputs": [
        {
          "output_type": "stream",
          "text": [
            "1 a\n",
            "2 b\n",
            "4 c\n",
            "8 d\n",
            "16 e\n"
          ],
          "name": "stdout"
        }
      ]
    },
    {
      "cell_type": "code",
      "metadata": {
        "id": "NsemLEtcLZB5",
        "colab_type": "code",
        "colab": {
          "base_uri": "https://localhost:8080/",
          "height": 101
        },
        "outputId": "0773f52b-cb30-4572-8cbe-0aed5f32d57e"
      },
      "source": [
        "#In this case, Python also offers a better solution. You can apply zip and get tuples of the\n",
        "for item in zip(x, y):\n",
        "  print(item)"
      ],
      "execution_count": 19,
      "outputs": [
        {
          "output_type": "stream",
          "text": [
            "(1, 'a')\n",
            "(2, 'b')\n",
            "(4, 'c')\n",
            "(8, 'd')\n",
            "(16, 'e')\n"
          ],
          "name": "stdout"
        }
      ]
    },
    {
      "cell_type": "code",
      "metadata": {
        "id": "FtCD4V3ZLp9f",
        "colab_type": "code",
        "colab": {
          "base_uri": "https://localhost:8080/",
          "height": 50
        },
        "outputId": "be47be9c-41b2-4e15-ee75-86d0c14548ff"
      },
      "source": [
        "#Dictionary can be iterated in these two ways\n",
        "z = {'a': 0, 'b': 1}\n",
        "for k in z:\n",
        "  print(k, z[k])"
      ],
      "execution_count": 22,
      "outputs": [
        {
          "output_type": "stream",
          "text": [
            "a 0\n",
            "b 1\n"
          ],
          "name": "stdout"
        }
      ]
    },
    {
      "cell_type": "code",
      "metadata": {
        "id": "dUcdTTsFL99N",
        "colab_type": "code",
        "colab": {
          "base_uri": "https://localhost:8080/",
          "height": 50
        },
        "outputId": "dee9dbdb-85b6-4127-e0d1-a0900d7f25ec"
      },
      "source": [
        "for k, v in z.items():\n",
        "  print(k, v)"
      ],
      "execution_count": 23,
      "outputs": [
        {
          "output_type": "stream",
          "text": [
            "a 0\n",
            "b 1\n"
          ],
          "name": "stdout"
        }
      ]
    },
    {
      "cell_type": "code",
      "metadata": {
        "id": "b4nQncLSMCTQ",
        "colab_type": "code",
        "colab": {
          "base_uri": "https://localhost:8080/",
          "height": 84
        },
        "outputId": "8602b739-6490-4217-dc9f-8ab4410acc62"
      },
      "source": [
        "#Comparing to Zero\n",
        "#To print only non zero values from tuple x\n",
        "x = (1, 2, 0, 3, 0, 4)\n",
        "for item in x:\n",
        "    if item != 0:\n",
        "      print(item)"
      ],
      "execution_count": 24,
      "outputs": [
        {
          "output_type": "stream",
          "text": [
            "1\n",
            "2\n",
            "3\n",
            "4\n"
          ],
          "name": "stdout"
        }
      ]
    },
    {
      "cell_type": "code",
      "metadata": {
        "id": "DqwDoAaFMH84",
        "colab_type": "code",
        "colab": {
          "base_uri": "https://localhost:8080/",
          "height": 84
        },
        "outputId": "fd6b5e11-8c1f-4d1b-b5bc-1c0c73bfc22e"
      },
      "source": [
        "#The Pythonic way is to exploit the fact that zero is interpreted as False in a Boolean\n",
        "for item in x:\n",
        "  if item:\n",
        "    print(item)"
      ],
      "execution_count": 25,
      "outputs": [
        {
          "output_type": "stream",
          "text": [
            "1\n",
            "2\n",
            "3\n",
            "4\n"
          ],
          "name": "stdout"
        }
      ]
    },
    {
      "cell_type": "code",
      "metadata": {
        "id": "1gQAtNEpMPQ6",
        "colab_type": "code",
        "colab": {
          "base_uri": "https://localhost:8080/",
          "height": 34
        },
        "outputId": "ab06e415-fa1b-4925-ff4a-9f0ccdd59214"
      },
      "source": [
        "#Avoiding Mutable Optional Arguments\n",
        "def func(value, seq=[]):\n",
        "  seq.append(value)\n",
        "  return seq\n",
        "print(func(value=2))"
      ],
      "execution_count": 27,
      "outputs": [
        {
          "output_type": "stream",
          "text": [
            "[2]\n"
          ],
          "name": "stdout"
        }
      ]
    },
    {
      "cell_type": "code",
      "metadata": {
        "id": "pSyf1x8XMSwF",
        "colab_type": "code",
        "colab": {
          "base_uri": "https://localhost:8080/",
          "height": 34
        },
        "outputId": "d1c4f604-f5c4-486a-f0da-1317d8609bac"
      },
      "source": [
        "#keep away from that with some additional logic.\n",
        "def func(value, seq=None):\n",
        "  if seq is None:\n",
        "    seq = []\n",
        "    seq.append(value)\n",
        "    return seq\n",
        "print(func(value=6))"
      ],
      "execution_count": 28,
      "outputs": [
        {
          "output_type": "stream",
          "text": [
            "[6]\n"
          ],
          "name": "stdout"
        }
      ]
    },
    {
      "cell_type": "code",
      "metadata": {
        "id": "0LZJfi9yMc9n",
        "colab_type": "code",
        "colab": {}
      },
      "source": [
        ""
      ],
      "execution_count": null,
      "outputs": []
    }
  ]
}